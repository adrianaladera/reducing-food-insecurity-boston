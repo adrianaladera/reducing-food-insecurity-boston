{
 "cells": [
  {
   "cell_type": "code",
   "execution_count": 1,
   "metadata": {},
   "outputs": [
    {
     "name": "stdout",
     "output_type": "stream",
     "text": [
      "Set parameter Username\n",
      "Academic license - for non-commercial use only - expires 2025-09-21\n"
     ]
    }
   ],
   "source": [
    "using JuMP\n",
    "using Gurobi\n",
    "using CSV\n",
    "using DataFrames\n",
    "\n",
    "const GRB_ENV = Gurobi.Env(output_flag=1);"
   ]
  },
  {
   "cell_type": "code",
   "execution_count": 2,
   "metadata": {},
   "outputs": [],
   "source": [
    "facilities = CSV.read(\"Demand.csv\",DataFrame);\n",
    "food_prices = CSV.read(\"Food_Prices.csv\",DataFrame);\n",
    "warehouses = CSV.read(\"Warehouses.csv\",DataFrame);\n",
    "transportation = CSV.read(\"Transportation_costs.csv\",DataFrame) |> Matrix;\n",
    "nutritional_value = CSV.read(\"Nutritional_Value.csv\",DataFrame) |> Matrix;\n",
    "nutrients = CSV.read(\"Nutrients.csv\",DataFrame);\n",
    "\n",
    "# Extract data from DataFrames into arrays for easier indexing\n",
    "D = facilities[!, :Population] |> Array; # demand for each facility location j (vector, 27)\n",
    "D = D[1:end, 1:end] * 0.01; # fraction of population for now that makes solution feasible\n",
    "t = transportation[1:end, 1:end .!= 1]; # removing extra column from transportation costs (matrix, 10 x 27)\n",
    "π = food_prices[!, :PriceFINAL] |> Array; # food prices per item k (vector, 14)\n",
    "V = parse.(Float64,string.(nutritional_value[1:end, 1:end .!= 1])) .* 10 |> Array; # nutritional value for the different types of foods (matrix, 14 x 5)\n",
    "N = nutrients[!, :Requirements] |> Array; # daily requirements for select nutrients (vector, 5)\n",
    "C = 1000000000000 # max capacity constraint\n",
    "S = 10000 # cost to build a facility\n",
    "\n",
    "# variable index sizes\n",
    "m = size(t)[1]; # number of warehouses, 10\n",
    "n = size(t)[2]; # number of facilities (demand), 27\n",
    "p = size(π)[1]; # number of food items, 14\n",
    "q = size(N)[1]; # number of nutrient requirements, q"
   ]
  },
  {
   "attachments": {},
   "cell_type": "markdown",
   "metadata": {},
   "source": [
    "## Model formulation without uncertainty (nominal value of transportation costs)"
   ]
  },
  {
   "cell_type": "code",
   "execution_count": 4,
   "metadata": {},
   "outputs": [
    {
     "name": "stdout",
     "output_type": "stream",
     "text": [
      "Set parameter Method to value 0\n",
      "Set parameter Method to value 0\n",
      "Gurobi Optimizer version 9.5.2 build v9.5.2rc0 (mac64[rosetta2])\n",
      "Thread count: 11 physical cores, 11 logical processors, using up to 11 threads\n",
      "Optimize a model with 762 rows, 3807 columns and 7965 nonzeros\n",
      "Model fingerprint: 0x28c43f0d\n",
      "Variable types: 3780 continuous, 27 integer (27 binary)\n",
      "Coefficient statistics:\n",
      "  Matrix range     [1e+00, 1e+12]\n",
      "  Objective range  [1e+00, 1e+04]\n",
      "  Bounds range     [0e+00, 0e+00]\n",
      "  RHS range        [2e+01, 2e+04]\n",
      "Warning: Model contains large matrix coefficients\n",
      "         Consider reformulating model or setting NumericFocus parameter\n",
      "         to avoid numerical issues.\n",
      "Found heuristic solution: objective 2534814.1195\n",
      "Presolve removed 762 rows and 3807 columns\n",
      "Presolve time: 0.00s\n",
      "Presolve: All rows and columns removed\n",
      "\n",
      "Explored 0 nodes (0 simplex iterations) in 0.00 seconds (0.00 work units)\n",
      "Thread count was 1 (of 11 available processors)\n",
      "\n",
      "Solution count 2: 443035 2.53481e+06 \n",
      "\n",
      "Optimal solution found (tolerance 1.00e-04)\n",
      "Warning: max constraint violation (8.1520e+01) exceeds tolerance\n",
      "         (possibly due to large matrix coefficients)\n",
      "Best objective 4.430349090968e+05, best bound 4.430349090968e+05, gap 0.0000%\n",
      "\n",
      "User-callback calls 276, time in user-callback 0.00 sec\n",
      "Optimal total cost: 443034.9090967625\n",
      "Selected facilities (indices): [3, 5, 10, 11, 12, 13, 14, 15, 16, 22, 23, 24, 25, 26, 27]\n"
     ]
    }
   ],
   "source": [
    "# parameter to change\n",
    "M = 15;\n",
    "\n",
    "# Model definition\n",
    "model = Model(() -> Gurobi.Optimizer(GRB_ENV))\n",
    "set_optimizer_attribute(model,\"Method\",0)\n",
    "\n",
    "# Decision variables\n",
    "@variable(model, y[1:n], Bin)  # y[j]: binary decision variable for facility j\n",
    "@variable(model, x[1:m, 1:n, 1:p] >= 0)  # x[i, j, k]: quantity transported from i to j of food k\n",
    "\n",
    "# Objective function: minimize total cost\n",
    "@objective(model, Min, \n",
    "    sum(π[k] * x[i, j, k] for i in 1:m, j in 1:n, k in 1:p) +\n",
    "    sum(t[i, j] * x[i, j, k] for i in 1:m, j in 1:n, k in 1:p) +\n",
    "    S * sum(y[j] for j in 1:n))\n",
    "\n",
    "# Constraints\n",
    "@constraint(model, [j=1:n, k=1:p], sum(x[i, j, k] for i in 1:m) >= D[j]) # meet all demands for each population j\n",
    "@constraint(model, [l=1:q], sum(V[k, l] for k in 1:p) >= N[l]) # meet daily nutrient requirements\n",
    "@constraint(model, [k=1:p, j=1:n], sum(x[i, j, k] for i in 1:m) <= C * y[j]) # do not exceed facility capacity, IGNORE\n",
    "@constraint(model, sum(y[j] for j in 1:n) >= M) # must build at least M facilities\n",
    "\n",
    "# Solve the model\n",
    "optimize!(model)\n",
    "\n",
    "# Output the results\n",
    "if termination_status(model) == MOI.OPTIMAL\n",
    "    println(\"Optimal total cost: \", objective_value(model))\n",
    "    selected_facilities = findall(value.(y) .> 0.5)  # Indices of nonzero y\n",
    "    println(\"Selected facilities (indices): \", selected_facilities)\n",
    "else\n",
    "    println(\"No optimal solution found.\")\n",
    "end\n"
   ]
  },
  {
   "attachments": {},
   "cell_type": "markdown",
   "metadata": {},
   "source": [
    "## Results for nominal value model\n",
    "\n",
    "M = 1:\n",
    "Optimal total cost: 383034.9090967625\n",
    "Selected facilities (indices): [3, 5, 10, 11, 12, 13, 14, 15, 16]\n",
    "\n",
    "M = 10:\n",
    "Optimal total cost: 393034.9090967625\n",
    "Selected facilities (indices): [3, 5, 10, 11, 12, 13, 14, 15, 16, 27]\n",
    "\n",
    "M = 15:\n",
    "Optimal total cost: 443034.9090967625\n",
    "Selected facilities (indices): [3, 5, 10, 11, 12, 13, 14, 15, 16, 22, 23, 24, 25, 26, 27]\n",
    "\n",
    "M = 20:\n",
    "Optimal total cost: 493034.9090967625\n",
    "Selected facilities (indices): [3, 5, 10, 11, 12, 13, 14, 15, 16, 17, 18, 19, 20, 21, 22, 23, 24, 25, 26, 27]\n",
    "\n",
    "M = 24:\n",
    "Optimal total cost: 533034.9090967625\n",
    "Selected facilities (indices): [3, 5, 6, 7, 8, 9, 10, 11, 12, 13, 14, 15, 16, 17, 18, 19, 20, 21, 22, 23, 24, 25, 26, 27]\n",
    "\n",
    "M = 27:\n",
    "Optimal total cost: 563034.9090967625\n",
    "Selected facilities (indices): [1, 2, 3, 4, 5, 6, 7, 8, 9, 10, 11, 12, 13, 14, 15, 16, 17, 18, 19, 20, 21, 22, 23, 24, 25, 26, 27]\n"
   ]
  },
  {
   "cell_type": "markdown",
   "metadata": {},
   "source": []
  }
 ],
 "metadata": {
  "kernelspec": {
   "display_name": "Julia 1.8.1",
   "language": "julia",
   "name": "julia-1.8"
  },
  "language_info": {
   "file_extension": ".jl",
   "mimetype": "application/julia",
   "name": "julia",
   "version": "1.8.1"
  },
  "orig_nbformat": 4
 },
 "nbformat": 4,
 "nbformat_minor": 2
}
